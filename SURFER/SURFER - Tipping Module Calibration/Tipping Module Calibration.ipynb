{
 "cells": [
  {
   "cell_type": "markdown",
   "metadata": {},
   "source": [
    "# Tipping Module Calibration\n",
    "---\n",
    "**Author** : Amaury Laridon\n",
    "\n",
    "**Date** : 28/10/23\n",
    "\n",
    "---\n",
    "\n",
    "## Algorithme I with parameterization choice A for the fresh water flux\n",
    "\n",
    "Here, we will numerically translate Algorithm I, which corresponds to the method described in [[Note de Travail - Cadre mathématique coefficients de couplage]] and which is a generalized application of Monteiro's (2022) method. We first look at the simplest choice of parameterization, i.e. choice \"A\" for the freshwater flow with a single forcing parameter.\n",
    "\n",
    "### AMOC's calibration\n",
    "\n",
    "#### Reminder of the mathematical framework\n",
    "We wish to calibrate the following ODE\n",
    "$$   \\frac{d\\Psi}{dt} = -\\Psi^3 + a_1\\Psi^2 + b_1\\Psi + c_1 + d_1 T + e_{12} F_{GIS}\n",
    "\\quad (9)   $$\n",
    "The mathematical framework described in [[Note de Travail - Cadre mathématique coefficients de couplage]] has given us the following results for coefficient values,\n",
    "\n",
    "$$a_1 = \\frac{3(\\Psi^{-}+\\Psi^{+})}{2} \\quad (1) $$\n",
    "$$b_1 =  -3 \\Psi^{-}\\Psi^+ \\quad (2)$$\n",
    "$$  c_1^A  = \\frac{T^+_\\Psi\\Psi^{-^{2}}(\\Psi^{-}-3\\Psi^+)-T^{-}_\\Psi\\Psi^{+^{2}}(\\Psi^{+}-3\\Psi^{-})}{2(T^{-}_\\Psi-T^{+}_\\Psi)} \\quad (3) $$\n",
    "$$  d_1 = -\\frac{(\\Psi^{+}-\\Psi^{-})^3}{2(T^{+}_\\Psi-T^{-}_\\Psi)} \\quad (4)   $$\n",
    "$$ c_1^B  = \\frac{F_{GIS}^+\\Psi^{-^{2}}(\\Psi^{-}-3\\Psi^+)-F_{GIS}^{-}\\Psi^{+^{2}}(\\Psi^{+}-3\\Psi^{-})}{2(F_{GIS}^{-}-F_{GIS}^{+})} \\quad (5) $$\n",
    "$$  e_{12} =-\\frac{(\\Psi^{+}-\\Psi^{-})^3}{2(F_{GIS}^{+}-F_{GIS}^{-})} \\quad (6) $$\n",
    "$$ c_1 = c_1^A - e_{12}F_{GIS}^A \\quad (7) $$\n",
    "$$c_1 = c_1^B - d_1T_{\\Psi}^B \\quad (8) $$\n",
    "\n",
    "#### Numerical implementation\n",
    "\n",
    "First, we want to make a numerical implementation of this mathematical framework and test it by giving as input any critical values of the bifurcation coordinates. In other words, we're first going to see whether, given the data we want to reproduce, the algorithm is a good fit before, in a second phase, providing the algorithm with real experimental values as input."
   ]
  },
  {
   "cell_type": "markdown",
   "metadata": {},
   "source": [
    "##### Libraries import "
   ]
  },
  {
   "cell_type": "code",
   "execution_count": 2,
   "metadata": {},
   "outputs": [],
   "source": [
    "import matplotlib.pyplot as plt\n",
    "import numpy as np"
   ]
  },
  {
   "cell_type": "markdown",
   "metadata": {},
   "source": [
    "##### Calibration module \n",
    "\n",
    "The critical values of the system variable under study (AMOC or GIS) are generally denoted by $xp, xm$, corresponding to the upper and lower critical values respectively. The critical values of the forcings are noted $op, om$. \n",
    "\n",
    "To avoid confusion, I explicitly define a function by coefficients, although the form is the same for many coefficients and I can simply change the arguments of the common function when calling the function and assigning it to the coefficient."
   ]
  },
  {
   "cell_type": "code",
   "execution_count": 6,
   "metadata": {},
   "outputs": [],
   "source": [
    "### Definition of the functions computing the coefficient's values. \n",
    "def a1(xp,xm):\n",
    "    \"\"\"Definition of the a_1 coefficient cfr. Eq.(1)\"\"\"\n",
    "    return (3/2)*(xp+xm)\n",
    "def b1(xp,xm):\n",
    "    \"\"\"Definition of the b_1 coefficient cfr. Eq.(2)\"\"\"\n",
    "    return -3*xp*xm\n",
    "def c1_A(xp,xm,op,om):\n",
    "    \"\"\"Definition of the c_1^A coefficient cfr. Eq.(3)\"\"\"\n",
    "    return (op*xm**2*(xm-3*xp)-om*xp**2*(xp-3*xm))/(2*(om-op))\n",
    "def d1(xp,xm,op,om):\n",
    "    \"\"\"Definition of the d_1 coefficient cfr. Eq.(4)\"\"\"\n",
    "    return -(xp-xm)**3/(2*(op-om))\n",
    "def c1_B(xp,xm,op,om):\n",
    "    \"\"\"Definition of the c_1^B coefficient cfr. Eq.(5)\"\"\"\n",
    "    return (op*xm**2*(xm-3*xp)-om*xp**2*(xp-3*xm))/(2*(om-op))\n",
    "def e12(xp,xm,op,om):\n",
    "    \"\"\"Definition of the c_12 coefficient cfr. Eq.(6)\"\"\"\n",
    "    return -(xp-xm)**3/(2*(op-om))\n",
    "def c1_from_A(c1_A, e12, F_A):\n",
    "    \"\"\"Definition of the c_1 coefficient from experience A cfr. Eq.(7)\"\"\"\n",
    "    return c1_A-(e12*F_A)\n",
    "def c1_from_B(c1_B, e12, T_B):\n",
    "    \"\"\"Definition of the c_1 coefficient from experience B cfr. Eq.(8)\"\"\"\n",
    "    return c1_B-(e12*T_B)\n",
    "### Definition of the calibration module ###\n",
    "def calib_module_AMOC_ParamA(psip,psim, Tp, Tm, Fp, Fm, F_A, T_B):\n",
    "    \"\"\"Calibration module for the AMOC with the parametrisation A for the fresh water flux.\"\"\"\n",
    "    a_1 = a1(psip, psim)\n",
    "    b_1 = b1(psip,psim)\n",
    "    c1A = c1_A(psip, psim, Tp, Tm)\n",
    "    d_1 = d1(psip,psim, Tp, Tm)\n",
    "    c1B = c1_B(psip, psim, Fp, Fm)\n",
    "    e_12 = e12(psip, psim, Fp, Fm)\n",
    "    c1_f_A = c1_from_A(c1A, e_12, F_A)\n",
    "    c1_f_B = c1_from_B(c1B, d_1, T_B)\n",
    "    return [a_1, b_1, c1A, d_1, c1B, e_12, c1_f_A, c1_f_B]\n"
   ]
  },
  {
   "cell_type": "markdown",
   "metadata": {},
   "source": [
    "##### Test data"
   ]
  },
  {
   "cell_type": "code",
   "execution_count": 8,
   "metadata": {},
   "outputs": [],
   "source": [
    "psip = 1\n",
    "psim = 0.1\n",
    "Tp = 3\n",
    "Tm = 1.2\n",
    "Fp = 0.5\n",
    "Fm = 0.05\n",
    "F_A = 0.1\n",
    "T_B = 2"
   ]
  },
  {
   "cell_type": "markdown",
   "metadata": {},
   "source": [
    "##### Algorithm's test"
   ]
  },
  {
   "cell_type": "code",
   "execution_count": 9,
   "metadata": {},
   "outputs": [],
   "source": [
    "calibrate_coef = calib_module_AMOC_ParamA(psip, psim, Tp, Tm, Fp, Fm, F_A, T_B)\n",
    "\n"
   ]
  }
 ],
 "metadata": {
  "kernelspec": {
   "display_name": "Python 3",
   "language": "python",
   "name": "python3"
  },
  "language_info": {
   "codemirror_mode": {
    "name": "ipython",
    "version": 3
   },
   "file_extension": ".py",
   "mimetype": "text/x-python",
   "name": "python",
   "nbconvert_exporter": "python",
   "pygments_lexer": "ipython3",
   "version": "3.10.8"
  }
 },
 "nbformat": 4,
 "nbformat_minor": 2
}
